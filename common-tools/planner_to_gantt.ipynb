{
 "cells": [
  {
   "cell_type": "code",
   "execution_count": 1,
   "id": "9697af2c-0aaa-4510-b733-da7c537d3200",
   "metadata": {
    "tags": []
   },
   "outputs": [],
   "source": [
    "import csv"
   ]
  },
  {
   "cell_type": "code",
   "execution_count": 2,
   "id": "010b94f4-c02f-440a-a499-62f451fd654a",
   "metadata": {
    "tags": []
   },
   "outputs": [],
   "source": [
    "input_data = []\n",
    "output_data = []\n",
    "output_header = ['ID','Name','Begin date','End date']\n",
    "\n",
    "ID_column = 0\n",
    "Name_column = 1\n",
    "Begin_date_column = 8\n",
    "End_date_column = 9\n",
    "\n",
    "with open(\"C:\\\\Users\\hugom\\\\OneDrive - KOT ENGENHARIA LTDA\\\\serviços_correntes\\\\ERP\\\\cronograma\\\\Sprint ERP.csv\") as csvfile:\n",
    "    reader = csv.reader(csvfile, delimiter=',', quotechar='\"')\n",
    "    for row in reader:\n",
    "        input_data.append(row)"
   ]
  },
  {
   "cell_type": "code",
   "execution_count": 3,
   "id": "199a4eff-6606-41a2-80fe-6fdddebe0e17",
   "metadata": {
    "tags": []
   },
   "outputs": [],
   "source": [
    "headerless_input = input_data[1:]\n",
    "input_header = input_data[0]"
   ]
  },
  {
   "cell_type": "code",
   "execution_count": 10,
   "id": "819fac32-5bea-46c7-926a-52f5cb9a916f",
   "metadata": {
    "tags": []
   },
   "outputs": [
    {
     "name": "stdout",
     "output_type": "stream",
     "text": [
      "['56-NVi2bsk-VmSjLmoDlCWUAHsrd', \"implementaï¿½ï¿½o view 'Lead Form Page'\", '', '']\n",
      "['iBmrMBfYNk2CFjc5hgZoKGUAOJiM', \"implementaï¿½ï¿½o view 'Comercial Planejamento Page'\", '', '']\n",
      "['ntPJ9riHN0uG40LWw0e7d2UAIO-P', \"implementaï¿½ï¿½o view 'ERP Comercial Main Page'\", '', '']\n",
      "['2SzDbdtqpEmRJhAtTYCVkmUAGqM2', \"implementaï¿½ï¿½o view 'ERP Main Page'\", '', '']\n",
      "['c--klLWxiEOUOa2EwQqY9GUAGpgK', \"implementaï¿½ï¿½o de ferramenta para geraï¿½ï¿½o de documentaï¿½ï¿½o de todo o projeto e nï¿½o somente das API's\", '', '']\n",
      "['G4wKd__wD0GZGN_Lnpn-C2UAE93K', 'verificaï¿½ï¿½o e refatoraï¿½ï¿½o dos models', '', '']\n",
      "['u3nmXcdWl0-YFageQ0WTFGUAJ1g9', 'verificaï¿½ï¿½o e refatoraï¿½ï¿½o dos controllers', '', '']\n",
      "['zPacmjDOR0af5luazawA2mUAOB0t', 'verificaï¿½ï¿½o e refatoraï¿½ï¿½o das views', '', '']\n",
      "['Fs8kIOvUZUiLpzXoCWTkq2UAC4Va', 'verificaï¿½ï¿½o e refatoraï¿½ï¿½o das rotas api', '', '']\n",
      "['fCYufDXyVUenYffrEfJhWWUAK7KN', 'verificaï¿½ï¿½o e refatoraï¿½ï¿½o das rotas web', '', '']\n",
      "['ykqmA9dGbE-3g06dHS1McmUANVbV', 'migraï¿½ï¿½o de compilador de assets', '', '']\n",
      "['5iHfkDXdNkqhlP-srbS4YGUAG-OL', 'migraï¿½ï¿½o do gerenciador de pacotes de Bower para Yarn', '', '']\n",
      "['cnVujdJ6dk6cUD6GPBmD_2UAIexc', 'atualizaï¿½ï¿½o framework Bootstrap v3.3.7 para v5.x', '', '']\n",
      "['Yg_G7fZGK0qpgHNtFhHzoWUAAwg2', 'atualizaï¿½ï¿½o framework Laravel 9.x para 10.x', '', '']\n",
      "['I4WPFSD34UGR-OaCHiodsmUAFXl5', 'atualizaï¿½ï¿½o framework Laravel 8.x para 9.x', '', '']\n",
      "['BslbpWs4PEOFRRM8bAiiY2UAJN9k', 'atualizaï¿½ï¿½o framework Laravel 7.x para 8.x', '', '']\n",
      "['mps6ZfYvKUa3yJARSlAyjGUAAmMb', 'atualizaï¿½ï¿½o framework Laravel 6.x para 7.x', '', '']\n",
      "['cZzfZUNIX0mT0v8xPzrLOGUAC6dX', 'atualizaï¿½ï¿½o framework Laravel 5.8 para 6.x', '', '']\n",
      "['4zb0pny2LEqEgD9FK5CAj2UAGsr5', \"implementaï¿½ï¿½o view 'Anï¿½lise Tï¿½cnica Form Page'\", '', '']\n",
      "['PJElxKjM80Kn9eoHw1MiEmUALUEi', \"implementaï¿½ï¿½o view 'Propostas Form Page'\", '', '']\n",
      "['zgwXKWK3p0ePwquGvP5fmmUAKlCc', \"implementaï¿½ï¿½o view 'Contratos Form Page'\", '', '']\n",
      "['zJw6EixmwUm5Yl7z3sWcf2UALFGB', \"implementaï¿½ï¿½o controller de 'Leads'\", '', '']\n",
      "['TrZjUdHgC06bKxy97NSjX2UALt1Q', \"implementaï¿½ï¿½o controller de 'Propostas'\", '', '']\n",
      "['CZpif5JuwUCEHhkOiK48R2UAOEeU', \"refatoraï¿½ï¿½o controller de 'Contratos'\", '', '']\n",
      "['sf09kcxJcUOeg5vox0VWjGUAAnTf', \"implementaï¿½ï¿½o controller de 'Anï¿½lise Tï¿½cnica'\", '', '']\n",
      "['RrqWcX61B0m_WRu6lgMlZmUAAgHE', \"definiï¿½ï¿½o do modelos dos dados 'Leads'\", '', '']\n",
      "['WRfPX7isjUiy75lO8Wva8WUAANgk', \"definiï¿½ï¿½o do modelos dos dados 'Anï¿½lise Crï¿½tica'\", '', '']\n",
      "['s4KFo0m9Lk-AMK-lZLg-eWUAJJvU', \"definiï¿½ï¿½o do modelos dos dados 'Propostas'\", '', '']\n",
      "['woQsKtWdNUWfLnhyAV90AGUAK4eN', \"definiï¿½ï¿½o do modelos dos dados 'Contratos'\", '', '']\n",
      "['A4ngAxtb1UCCdRwC7H4FF2UAI9zi', \"implementaï¿½ï¿½o de migraï¿½ï¿½o para modelo 'Contratos' \", '', '']\n",
      "['FwIyvLgZn0mLIXTF_5f6jmUAK3d_', \"implementaï¿½ï¿½o de migraï¿½ï¿½o para modelo 'Propostas' \", '', '']\n",
      "['JPgKJsjQD0qY5E6p4eQcQWUAD8Fo', \"implementaï¿½ï¿½o de migraï¿½ï¿½o para modelo 'Anï¿½lise Crï¿½tica' \", '', '']\n",
      "['Jg-9DUy_R02hJLK-E55gt2UAA4f_', \"implementaï¿½ï¿½o de migraï¿½ï¿½o para modelo 'Leads' \", '', '']\n",
      "['FrnR6m_rdEy1I24bZlkK-2UAGmm-', \"implementaï¿½ï¿½o rotas CRUD de API para modelo 'Leads'\", '', '']\n",
      "['FGS9aHBOMUG6ocHBEAMq72UAKp1Z', \"implementaï¿½ï¿½o rotas CRUD de API para modelo 'Anï¿½lise Crï¿½tica'\", '', '']\n",
      "['BNCHBKpVuE24dlQQQ-WoEWUAFv_p', \"implementaï¿½ï¿½o rotas CRUD de API para modelo 'Propostas'\", '', '']\n",
      "['wrp7iIWN4EG896N-TYDreWUAD8Pv', \"implementaï¿½ï¿½o rotas CRUD de API para modelo 'Contratos'\", '', '']\n",
      "['AV9vx8r1QUG7wAB-CMbaimUAJBSq', 'atualizaï¿½ï¿½o do contï¿½iner Docker', '', '']\n",
      "['r_o_SkIHMkSIl-fUo6I63GUAM-nK', 'definiï¿½ï¿½o de arquitetura de um sistema de rastreamento de mudanï¿½as', '', '']\n"
     ]
    }
   ],
   "source": [
    "with open(\"C:\\\\Users\\\\hugom\\\\OneDrive - KOT ENGENHARIA LTDA\\\\serviços_correntes\\\\ERP\\\\cronograma\\\\Sprint ERP_converted.csv\", 'w', newline='') as csvfile:\n",
    "    writer = csv.writer(csvfile)\n",
    "    writer.writerow(output_header)\n",
    "\n",
    "    for line in headerless_input:\n",
    "\n",
    "        row = []\n",
    "\n",
    "        idc = line[ID_column]\n",
    "        namec = line[Name_column]\n",
    "        beginc = line[Begin_date_column]\n",
    "        endc = line[End_date_column]\n",
    "\n",
    "        row.append(idc)\n",
    "        row.append(namec)\n",
    "        row.append(beginc)\n",
    "        row.append(endc)\n",
    "\n",
    "        print(row)\n",
    "    \n",
    "        writer = csv.writer(csvfile)\n",
    "        writer.writerow(row)"
   ]
  },
  {
   "cell_type": "code",
   "execution_count": null,
   "id": "bf0e4d3e-bc72-4078-84a2-1db9846b8942",
   "metadata": {},
   "outputs": [],
   "source": []
  }
 ],
 "metadata": {
  "kernelspec": {
   "display_name": "Python 3 (ipykernel)",
   "language": "python",
   "name": "python3"
  },
  "language_info": {
   "codemirror_mode": {
    "name": "ipython",
    "version": 3
   },
   "file_extension": ".py",
   "mimetype": "text/x-python",
   "name": "python",
   "nbconvert_exporter": "python",
   "pygments_lexer": "ipython3",
   "version": "3.8.16"
  }
 },
 "nbformat": 4,
 "nbformat_minor": 5
}
